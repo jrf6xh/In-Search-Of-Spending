{
 "cells": [
  {
   "cell_type": "markdown",
   "metadata": {},
   "source": [
    "# Data Cleaning & Processing"
   ]
  },
  {
   "cell_type": "markdown",
   "metadata": {},
   "source": [
    "This notebook contains preprocessing steps for the data.  These include changing datatypes and standardizing missing values."
   ]
  },
  {
   "cell_type": "markdown",
   "metadata": {},
   "source": [
    "The steps taken here include:\n",
    "* Import original data\n",
    "* Unpack the nested structure of certain columns\n",
    "* Group unique categorical values\n",
    "* Deal with missing values"
   ]
  },
  {
   "cell_type": "code",
   "execution_count": 1,
   "metadata": {},
   "outputs": [],
   "source": [
    "import os\n",
    "import json\n",
    "import numpy as np\n",
    "import pandas as pd\n",
    "from pandas import json_normalize\n",
    "import datetime as dt\n",
    "import math"
   ]
  },
  {
   "cell_type": "code",
   "execution_count": null,
   "metadata": {},
   "outputs": [],
   "source": [
    "df = pd.read_csv('../Data/train_v2.csv', dtype={'fullVisitorId': 'str'})"
   ]
  },
  {
   "cell_type": "markdown",
   "metadata": {},
   "source": [
    "This project only uses data on visits from customers located in the US, so we filter our data here.  Because of memory limitations, we will save our filtered data as a csv, then load that csv again in the next step."
   ]
  },
  {
   "cell_type": "code",
   "execution_count": null,
   "metadata": {},
   "outputs": [],
   "source": [
    "df_us = df.loc[df['geoNetwork'].astype(str).str.contains('United States')]\n",
    "df_us.to_csv('../Data/data1.csv')"
   ]
  },
  {
   "cell_type": "markdown",
   "metadata": {},
   "source": [
    "The original dataset has some columns with nested data structures.  Here we define a function to unpack those nested structures into separate columns."
   ]
  },
  {
   "cell_type": "code",
   "execution_count": 2,
   "metadata": {},
   "outputs": [],
   "source": [
    "def unpack_df(csv_path='../Data/data1.csv', nrows=None):\n",
    "    \"\"\"\n",
    "    Unpack the nested structure of JSON columns\n",
    "    \n",
    "    *Source*\n",
    "    Much of the code here was created by Kaggler Julian Peller\n",
    "    https://www.kaggle.com/julian3833/1-quick-start-read-csv-and-flatten-json-fields\n",
    "    ***\n",
    "    \n",
    "    Input:\n",
    "    csv_path -- Path to csv file to unpack\n",
    "    nrows -- Number of rows to unpack\n",
    "    \n",
    "    Output:\n",
    "    Returns a copy of the csv as a dataframe with each nested element as a new column.\n",
    "    \"\"\"\n",
    "    JSON_COLUMNS = ['device', 'geoNetwork', 'totals', 'trafficSource']\n",
    "    \n",
    "    df = pd.read_csv(csv_path, \n",
    "                     converters={column: json.loads for column in JSON_COLUMNS}, \n",
    "                     dtype={'fullVisitorId': 'str'}, # Important!!\n",
    "                     nrows=nrows)\n",
    "    \n",
    "    for column in JSON_COLUMNS:\n",
    "        column_as_df = json_normalize(df[column])\n",
    "        column_as_df.columns = [f\"{column}.{subcolumn}\" for subcolumn in column_as_df.columns]\n",
    "        df = df.drop(column, axis=1).merge(column_as_df, right_index=True, left_index=True)\n",
    "    \n",
    "    print(f\"Loaded {os.path.basename(csv_path)}. Shape: {df.shape}\")\n",
    "    return df"
   ]
  },
  {
   "cell_type": "code",
   "execution_count": 3,
   "metadata": {},
   "outputs": [
    {
     "name": "stdout",
     "output_type": "stream",
     "text": [
      "Loaded data1.csv. Shape: (717217, 60)\n"
     ]
    }
   ],
   "source": [
    "df = unpack_df()\n",
    "df.drop('Unnamed: 0', axis=1, inplace=True)"
   ]
  },
  {
   "cell_type": "code",
   "execution_count": 4,
   "metadata": {},
   "outputs": [
    {
     "name": "stdout",
     "output_type": "stream",
     "text": [
      "<class 'pandas.core.frame.DataFrame'>\n",
      "RangeIndex: 717217 entries, 0 to 717216\n",
      "Data columns (total 59 columns):\n",
      " #   Column                                             Non-Null Count   Dtype \n",
      "---  ------                                             --------------   ----- \n",
      " 0   channelGrouping                                    717217 non-null  object\n",
      " 1   customDimensions                                   717217 non-null  object\n",
      " 2   date                                               717217 non-null  int64 \n",
      " 3   fullVisitorId                                      717217 non-null  object\n",
      " 4   hits                                               717217 non-null  object\n",
      " 5   socialEngagementType                               717217 non-null  object\n",
      " 6   visitId                                            717217 non-null  int64 \n",
      " 7   visitNumber                                        717217 non-null  int64 \n",
      " 8   visitStartTime                                     717217 non-null  int64 \n",
      " 9   device.browser                                     717217 non-null  object\n",
      " 10  device.browserVersion                              717217 non-null  object\n",
      " 11  device.browserSize                                 717217 non-null  object\n",
      " 12  device.operatingSystem                             717217 non-null  object\n",
      " 13  device.operatingSystemVersion                      717217 non-null  object\n",
      " 14  device.isMobile                                    717217 non-null  bool  \n",
      " 15  device.mobileDeviceBranding                        717217 non-null  object\n",
      " 16  device.mobileDeviceModel                           717217 non-null  object\n",
      " 17  device.mobileInputSelector                         717217 non-null  object\n",
      " 18  device.mobileDeviceInfo                            717217 non-null  object\n",
      " 19  device.mobileDeviceMarketingName                   717217 non-null  object\n",
      " 20  device.flashVersion                                717217 non-null  object\n",
      " 21  device.language                                    717217 non-null  object\n",
      " 22  device.screenColors                                717217 non-null  object\n",
      " 23  device.screenResolution                            717217 non-null  object\n",
      " 24  device.deviceCategory                              717217 non-null  object\n",
      " 25  geoNetwork.continent                               717217 non-null  object\n",
      " 26  geoNetwork.subContinent                            717217 non-null  object\n",
      " 27  geoNetwork.country                                 717217 non-null  object\n",
      " 28  geoNetwork.region                                  717217 non-null  object\n",
      " 29  geoNetwork.metro                                   717217 non-null  object\n",
      " 30  geoNetwork.city                                    717217 non-null  object\n",
      " 31  geoNetwork.cityId                                  717217 non-null  object\n",
      " 32  geoNetwork.networkDomain                           717217 non-null  object\n",
      " 33  geoNetwork.latitude                                717217 non-null  object\n",
      " 34  geoNetwork.longitude                               717217 non-null  object\n",
      " 35  geoNetwork.networkLocation                         717217 non-null  object\n",
      " 36  totals.visits                                      717217 non-null  object\n",
      " 37  totals.hits                                        717217 non-null  object\n",
      " 38  totals.pageviews                                   717114 non-null  object\n",
      " 39  totals.timeOnSite                                  438400 non-null  object\n",
      " 40  totals.sessionQualityDim                           384186 non-null  object\n",
      " 41  totals.newVisits                                   479144 non-null  object\n",
      " 42  totals.transactions                                17700 non-null   object\n",
      " 43  totals.transactionRevenue                          17658 non-null   object\n",
      " 44  totals.totalTransactionRevenue                     17658 non-null   object\n",
      " 45  totals.bounces                                     277515 non-null  object\n",
      " 46  trafficSource.referralPath                         194896 non-null  object\n",
      " 47  trafficSource.campaign                             717217 non-null  object\n",
      " 48  trafficSource.source                               717217 non-null  object\n",
      " 49  trafficSource.medium                               717217 non-null  object\n",
      " 50  trafficSource.adwordsClickInfo.criteriaParameters  717217 non-null  object\n",
      " 51  trafficSource.isTrueDirect                         297708 non-null  object\n",
      " 52  trafficSource.keyword                              289004 non-null  object\n",
      " 53  trafficSource.adContent                            46913 non-null   object\n",
      " 54  trafficSource.adwordsClickInfo.page                61745 non-null   object\n",
      " 55  trafficSource.adwordsClickInfo.slot                61745 non-null   object\n",
      " 56  trafficSource.adwordsClickInfo.gclId               61868 non-null   object\n",
      " 57  trafficSource.adwordsClickInfo.adNetworkType       61745 non-null   object\n",
      " 58  trafficSource.adwordsClickInfo.isVideoAd           61745 non-null   object\n",
      "dtypes: bool(1), int64(4), object(54)\n",
      "memory usage: 318.1+ MB\n"
     ]
    }
   ],
   "source": [
    "df.info()"
   ]
  },
  {
   "cell_type": "markdown",
   "metadata": {},
   "source": [
    "Some columns are filled with 'data' that is not actually available.  All values in these columns are simply 'not available in demo dataset'.  Here we remove these columns."
   ]
  },
  {
   "cell_type": "code",
   "execution_count": 5,
   "metadata": {},
   "outputs": [],
   "source": [
    "df.drop(['customDimensions', 'device.browserSize', 'device.browserVersion', 'device.flashVersion'], axis=1, inplace=True)"
   ]
  },
  {
   "cell_type": "code",
   "execution_count": 6,
   "metadata": {},
   "outputs": [],
   "source": [
    "for column in df.columns:\n",
    "    if df[column].value_counts().index[0] == 'not available in demo dataset':\n",
    "        df.drop(column, axis=1, inplace=True)"
   ]
  },
  {
   "cell_type": "code",
   "execution_count": 7,
   "metadata": {},
   "outputs": [
    {
     "name": "stdout",
     "output_type": "stream",
     "text": [
      "<class 'pandas.core.frame.DataFrame'>\n",
      "RangeIndex: 717217 entries, 0 to 717216\n",
      "Data columns (total 38 columns):\n",
      " #   Column                                        Non-Null Count   Dtype \n",
      "---  ------                                        --------------   ----- \n",
      " 0   channelGrouping                               717217 non-null  object\n",
      " 1   date                                          717217 non-null  int64 \n",
      " 2   fullVisitorId                                 717217 non-null  object\n",
      " 3   hits                                          717217 non-null  object\n",
      " 4   socialEngagementType                          717217 non-null  object\n",
      " 5   visitId                                       717217 non-null  int64 \n",
      " 6   visitNumber                                   717217 non-null  int64 \n",
      " 7   visitStartTime                                717217 non-null  int64 \n",
      " 8   device.browser                                717217 non-null  object\n",
      " 9   device.operatingSystem                        717217 non-null  object\n",
      " 10  device.isMobile                               717217 non-null  bool  \n",
      " 11  device.deviceCategory                         717217 non-null  object\n",
      " 12  geoNetwork.continent                          717217 non-null  object\n",
      " 13  geoNetwork.subContinent                       717217 non-null  object\n",
      " 14  geoNetwork.country                            717217 non-null  object\n",
      " 15  geoNetwork.networkDomain                      717217 non-null  object\n",
      " 16  totals.visits                                 717217 non-null  object\n",
      " 17  totals.hits                                   717217 non-null  object\n",
      " 18  totals.pageviews                              717114 non-null  object\n",
      " 19  totals.timeOnSite                             438400 non-null  object\n",
      " 20  totals.sessionQualityDim                      384186 non-null  object\n",
      " 21  totals.newVisits                              479144 non-null  object\n",
      " 22  totals.transactions                           17700 non-null   object\n",
      " 23  totals.transactionRevenue                     17658 non-null   object\n",
      " 24  totals.totalTransactionRevenue                17658 non-null   object\n",
      " 25  totals.bounces                                277515 non-null  object\n",
      " 26  trafficSource.referralPath                    194896 non-null  object\n",
      " 27  trafficSource.campaign                        717217 non-null  object\n",
      " 28  trafficSource.source                          717217 non-null  object\n",
      " 29  trafficSource.medium                          717217 non-null  object\n",
      " 30  trafficSource.isTrueDirect                    297708 non-null  object\n",
      " 31  trafficSource.keyword                         289004 non-null  object\n",
      " 32  trafficSource.adContent                       46913 non-null   object\n",
      " 33  trafficSource.adwordsClickInfo.page           61745 non-null   object\n",
      " 34  trafficSource.adwordsClickInfo.slot           61745 non-null   object\n",
      " 35  trafficSource.adwordsClickInfo.gclId          61868 non-null   object\n",
      " 36  trafficSource.adwordsClickInfo.adNetworkType  61745 non-null   object\n",
      " 37  trafficSource.adwordsClickInfo.isVideoAd      61745 non-null   object\n",
      "dtypes: bool(1), int64(4), object(33)\n",
      "memory usage: 203.1+ MB\n"
     ]
    }
   ],
   "source": [
    "df.info()"
   ]
  },
  {
   "cell_type": "code",
   "execution_count": 8,
   "metadata": {},
   "outputs": [
    {
     "data": {
      "text/html": [
       "<div>\n",
       "<style scoped>\n",
       "    .dataframe tbody tr th:only-of-type {\n",
       "        vertical-align: middle;\n",
       "    }\n",
       "\n",
       "    .dataframe tbody tr th {\n",
       "        vertical-align: top;\n",
       "    }\n",
       "\n",
       "    .dataframe thead th {\n",
       "        text-align: right;\n",
       "    }\n",
       "</style>\n",
       "<table border=\"1\" class=\"dataframe\">\n",
       "  <thead>\n",
       "    <tr style=\"text-align: right;\">\n",
       "      <th></th>\n",
       "      <th>channelGrouping</th>\n",
       "      <th>date</th>\n",
       "      <th>fullVisitorId</th>\n",
       "      <th>hits</th>\n",
       "      <th>socialEngagementType</th>\n",
       "      <th>visitId</th>\n",
       "      <th>visitNumber</th>\n",
       "      <th>visitStartTime</th>\n",
       "      <th>device.browser</th>\n",
       "      <th>device.operatingSystem</th>\n",
       "      <th>...</th>\n",
       "      <th>trafficSource.source</th>\n",
       "      <th>trafficSource.medium</th>\n",
       "      <th>trafficSource.isTrueDirect</th>\n",
       "      <th>trafficSource.keyword</th>\n",
       "      <th>trafficSource.adContent</th>\n",
       "      <th>trafficSource.adwordsClickInfo.page</th>\n",
       "      <th>trafficSource.adwordsClickInfo.slot</th>\n",
       "      <th>trafficSource.adwordsClickInfo.gclId</th>\n",
       "      <th>trafficSource.adwordsClickInfo.adNetworkType</th>\n",
       "      <th>trafficSource.adwordsClickInfo.isVideoAd</th>\n",
       "    </tr>\n",
       "  </thead>\n",
       "  <tbody>\n",
       "    <tr>\n",
       "      <th>0</th>\n",
       "      <td>Referral</td>\n",
       "      <td>20171016</td>\n",
       "      <td>8934116514970143966</td>\n",
       "      <td>[{'hitNumber': '1', 'time': '0', 'hour': '10',...</td>\n",
       "      <td>Not Socially Engaged</td>\n",
       "      <td>1508176307</td>\n",
       "      <td>6</td>\n",
       "      <td>1508176307</td>\n",
       "      <td>Chrome</td>\n",
       "      <td>Chrome OS</td>\n",
       "      <td>...</td>\n",
       "      <td>sites.google.com</td>\n",
       "      <td>referral</td>\n",
       "      <td>NaN</td>\n",
       "      <td>NaN</td>\n",
       "      <td>NaN</td>\n",
       "      <td>NaN</td>\n",
       "      <td>NaN</td>\n",
       "      <td>NaN</td>\n",
       "      <td>NaN</td>\n",
       "      <td>NaN</td>\n",
       "    </tr>\n",
       "    <tr>\n",
       "      <th>1</th>\n",
       "      <td>Direct</td>\n",
       "      <td>20171016</td>\n",
       "      <td>7992466427990357681</td>\n",
       "      <td>[{'hitNumber': '1', 'time': '0', 'hour': '17',...</td>\n",
       "      <td>Not Socially Engaged</td>\n",
       "      <td>1508201613</td>\n",
       "      <td>1</td>\n",
       "      <td>1508201613</td>\n",
       "      <td>Chrome</td>\n",
       "      <td>Android</td>\n",
       "      <td>...</td>\n",
       "      <td>(direct)</td>\n",
       "      <td>(none)</td>\n",
       "      <td>True</td>\n",
       "      <td>NaN</td>\n",
       "      <td>NaN</td>\n",
       "      <td>NaN</td>\n",
       "      <td>NaN</td>\n",
       "      <td>NaN</td>\n",
       "      <td>NaN</td>\n",
       "      <td>NaN</td>\n",
       "    </tr>\n",
       "    <tr>\n",
       "      <th>2</th>\n",
       "      <td>Referral</td>\n",
       "      <td>20171016</td>\n",
       "      <td>0166277907528479249</td>\n",
       "      <td>[{'hitNumber': '1', 'time': '0', 'hour': '16',...</td>\n",
       "      <td>Not Socially Engaged</td>\n",
       "      <td>1508196701</td>\n",
       "      <td>1</td>\n",
       "      <td>1508196701</td>\n",
       "      <td>Chrome</td>\n",
       "      <td>Macintosh</td>\n",
       "      <td>...</td>\n",
       "      <td>(direct)</td>\n",
       "      <td>(none)</td>\n",
       "      <td>NaN</td>\n",
       "      <td>NaN</td>\n",
       "      <td>NaN</td>\n",
       "      <td>NaN</td>\n",
       "      <td>NaN</td>\n",
       "      <td>NaN</td>\n",
       "      <td>NaN</td>\n",
       "      <td>NaN</td>\n",
       "    </tr>\n",
       "    <tr>\n",
       "      <th>3</th>\n",
       "      <td>Organic Search</td>\n",
       "      <td>20171016</td>\n",
       "      <td>5983987899933814948</td>\n",
       "      <td>[{'hitNumber': '1', 'time': '0', 'hour': '11',...</td>\n",
       "      <td>Not Socially Engaged</td>\n",
       "      <td>1508177658</td>\n",
       "      <td>1</td>\n",
       "      <td>1508177658</td>\n",
       "      <td>Safari</td>\n",
       "      <td>iOS</td>\n",
       "      <td>...</td>\n",
       "      <td>google</td>\n",
       "      <td>organic</td>\n",
       "      <td>NaN</td>\n",
       "      <td>(not provided)</td>\n",
       "      <td>NaN</td>\n",
       "      <td>NaN</td>\n",
       "      <td>NaN</td>\n",
       "      <td>NaN</td>\n",
       "      <td>NaN</td>\n",
       "      <td>NaN</td>\n",
       "    </tr>\n",
       "    <tr>\n",
       "      <th>4</th>\n",
       "      <td>Paid Search</td>\n",
       "      <td>20171016</td>\n",
       "      <td>6135613929977117121</td>\n",
       "      <td>[{'hitNumber': '1', 'time': '0', 'hour': '8', ...</td>\n",
       "      <td>Not Socially Engaged</td>\n",
       "      <td>1508166431</td>\n",
       "      <td>10</td>\n",
       "      <td>1508166431</td>\n",
       "      <td>Safari</td>\n",
       "      <td>iOS</td>\n",
       "      <td>...</td>\n",
       "      <td>google</td>\n",
       "      <td>cpc</td>\n",
       "      <td>NaN</td>\n",
       "      <td>(Remarketing/Content targeting)</td>\n",
       "      <td>Placement Accessories 300 x 250</td>\n",
       "      <td>NaN</td>\n",
       "      <td>NaN</td>\n",
       "      <td>NaN</td>\n",
       "      <td>NaN</td>\n",
       "      <td>NaN</td>\n",
       "    </tr>\n",
       "  </tbody>\n",
       "</table>\n",
       "<p>5 rows × 38 columns</p>\n",
       "</div>"
      ],
      "text/plain": [
       "  channelGrouping      date        fullVisitorId  \\\n",
       "0        Referral  20171016  8934116514970143966   \n",
       "1          Direct  20171016  7992466427990357681   \n",
       "2        Referral  20171016  0166277907528479249   \n",
       "3  Organic Search  20171016  5983987899933814948   \n",
       "4     Paid Search  20171016  6135613929977117121   \n",
       "\n",
       "                                                hits  socialEngagementType  \\\n",
       "0  [{'hitNumber': '1', 'time': '0', 'hour': '10',...  Not Socially Engaged   \n",
       "1  [{'hitNumber': '1', 'time': '0', 'hour': '17',...  Not Socially Engaged   \n",
       "2  [{'hitNumber': '1', 'time': '0', 'hour': '16',...  Not Socially Engaged   \n",
       "3  [{'hitNumber': '1', 'time': '0', 'hour': '11',...  Not Socially Engaged   \n",
       "4  [{'hitNumber': '1', 'time': '0', 'hour': '8', ...  Not Socially Engaged   \n",
       "\n",
       "      visitId  visitNumber  visitStartTime device.browser  \\\n",
       "0  1508176307            6      1508176307         Chrome   \n",
       "1  1508201613            1      1508201613         Chrome   \n",
       "2  1508196701            1      1508196701         Chrome   \n",
       "3  1508177658            1      1508177658         Safari   \n",
       "4  1508166431           10      1508166431         Safari   \n",
       "\n",
       "  device.operatingSystem  ...  trafficSource.source trafficSource.medium  \\\n",
       "0              Chrome OS  ...      sites.google.com             referral   \n",
       "1                Android  ...              (direct)               (none)   \n",
       "2              Macintosh  ...              (direct)               (none)   \n",
       "3                    iOS  ...                google              organic   \n",
       "4                    iOS  ...                google                  cpc   \n",
       "\n",
       "  trafficSource.isTrueDirect            trafficSource.keyword  \\\n",
       "0                        NaN                              NaN   \n",
       "1                       True                              NaN   \n",
       "2                        NaN                              NaN   \n",
       "3                        NaN                   (not provided)   \n",
       "4                        NaN  (Remarketing/Content targeting)   \n",
       "\n",
       "           trafficSource.adContent trafficSource.adwordsClickInfo.page  \\\n",
       "0                              NaN                                 NaN   \n",
       "1                              NaN                                 NaN   \n",
       "2                              NaN                                 NaN   \n",
       "3                              NaN                                 NaN   \n",
       "4  Placement Accessories 300 x 250                                 NaN   \n",
       "\n",
       "  trafficSource.adwordsClickInfo.slot trafficSource.adwordsClickInfo.gclId  \\\n",
       "0                                 NaN                                  NaN   \n",
       "1                                 NaN                                  NaN   \n",
       "2                                 NaN                                  NaN   \n",
       "3                                 NaN                                  NaN   \n",
       "4                                 NaN                                  NaN   \n",
       "\n",
       "  trafficSource.adwordsClickInfo.adNetworkType  \\\n",
       "0                                          NaN   \n",
       "1                                          NaN   \n",
       "2                                          NaN   \n",
       "3                                          NaN   \n",
       "4                                          NaN   \n",
       "\n",
       "  trafficSource.adwordsClickInfo.isVideoAd  \n",
       "0                                      NaN  \n",
       "1                                      NaN  \n",
       "2                                      NaN  \n",
       "3                                      NaN  \n",
       "4                                      NaN  \n",
       "\n",
       "[5 rows x 38 columns]"
      ]
     },
     "execution_count": 8,
     "metadata": {},
     "output_type": "execute_result"
    }
   ],
   "source": [
    "df.head()"
   ]
  },
  {
   "cell_type": "markdown",
   "metadata": {},
   "source": [
    "Only a few of the columns are registering as numerical values.  We update the data types below."
   ]
  },
  {
   "cell_type": "code",
   "execution_count": 9,
   "metadata": {},
   "outputs": [
    {
     "data": {
      "text/html": [
       "<div>\n",
       "<style scoped>\n",
       "    .dataframe tbody tr th:only-of-type {\n",
       "        vertical-align: middle;\n",
       "    }\n",
       "\n",
       "    .dataframe tbody tr th {\n",
       "        vertical-align: top;\n",
       "    }\n",
       "\n",
       "    .dataframe thead th {\n",
       "        text-align: right;\n",
       "    }\n",
       "</style>\n",
       "<table border=\"1\" class=\"dataframe\">\n",
       "  <thead>\n",
       "    <tr style=\"text-align: right;\">\n",
       "      <th></th>\n",
       "      <th>date</th>\n",
       "      <th>visitId</th>\n",
       "      <th>visitNumber</th>\n",
       "      <th>visitStartTime</th>\n",
       "    </tr>\n",
       "  </thead>\n",
       "  <tbody>\n",
       "    <tr>\n",
       "      <th>count</th>\n",
       "      <td>7.172170e+05</td>\n",
       "      <td>7.172170e+05</td>\n",
       "      <td>717217.000000</td>\n",
       "      <td>7.172170e+05</td>\n",
       "    </tr>\n",
       "    <tr>\n",
       "      <th>mean</th>\n",
       "      <td>2.017048e+07</td>\n",
       "      <td>1.499216e+09</td>\n",
       "      <td>3.089140</td>\n",
       "      <td>1.499216e+09</td>\n",
       "    </tr>\n",
       "    <tr>\n",
       "      <th>std</th>\n",
       "      <td>6.235211e+03</td>\n",
       "      <td>1.582198e+07</td>\n",
       "      <td>11.948716</td>\n",
       "      <td>1.582198e+07</td>\n",
       "    </tr>\n",
       "    <tr>\n",
       "      <th>min</th>\n",
       "      <td>2.016080e+07</td>\n",
       "      <td>1.470035e+09</td>\n",
       "      <td>1.000000</td>\n",
       "      <td>1.470035e+09</td>\n",
       "    </tr>\n",
       "    <tr>\n",
       "      <th>25%</th>\n",
       "      <td>2.017012e+07</td>\n",
       "      <td>1.485273e+09</td>\n",
       "      <td>1.000000</td>\n",
       "      <td>1.485273e+09</td>\n",
       "    </tr>\n",
       "    <tr>\n",
       "      <th>50%</th>\n",
       "      <td>2.017073e+07</td>\n",
       "      <td>1.501174e+09</td>\n",
       "      <td>1.000000</td>\n",
       "      <td>1.501174e+09</td>\n",
       "    </tr>\n",
       "    <tr>\n",
       "      <th>75%</th>\n",
       "      <td>2.017121e+07</td>\n",
       "      <td>1.512548e+09</td>\n",
       "      <td>2.000000</td>\n",
       "      <td>1.512548e+09</td>\n",
       "    </tr>\n",
       "    <tr>\n",
       "      <th>max</th>\n",
       "      <td>2.018043e+07</td>\n",
       "      <td>1.525158e+09</td>\n",
       "      <td>457.000000</td>\n",
       "      <td>1.525158e+09</td>\n",
       "    </tr>\n",
       "  </tbody>\n",
       "</table>\n",
       "</div>"
      ],
      "text/plain": [
       "               date       visitId    visitNumber  visitStartTime\n",
       "count  7.172170e+05  7.172170e+05  717217.000000    7.172170e+05\n",
       "mean   2.017048e+07  1.499216e+09       3.089140    1.499216e+09\n",
       "std    6.235211e+03  1.582198e+07      11.948716    1.582198e+07\n",
       "min    2.016080e+07  1.470035e+09       1.000000    1.470035e+09\n",
       "25%    2.017012e+07  1.485273e+09       1.000000    1.485273e+09\n",
       "50%    2.017073e+07  1.501174e+09       1.000000    1.501174e+09\n",
       "75%    2.017121e+07  1.512548e+09       2.000000    1.512548e+09\n",
       "max    2.018043e+07  1.525158e+09     457.000000    1.525158e+09"
      ]
     },
     "execution_count": 9,
     "metadata": {},
     "output_type": "execute_result"
    }
   ],
   "source": [
    "df.describe()"
   ]
  },
  {
   "cell_type": "markdown",
   "metadata": {},
   "source": [
    "## Change Data Types"
   ]
  },
  {
   "cell_type": "markdown",
   "metadata": {},
   "source": [
    "### 'date' to DateTime"
   ]
  },
  {
   "cell_type": "code",
   "execution_count": 10,
   "metadata": {},
   "outputs": [
    {
     "data": {
      "text/plain": [
       "20171212    4690\n",
       "20171213    2777\n",
       "20171004    2569\n",
       "20170920    2444\n",
       "20180327    2421\n",
       "            ... \n",
       "20170506     495\n",
       "20170513     491\n",
       "20170415     489\n",
       "20160904     487\n",
       "20170416     472\n",
       "Name: date, Length: 638, dtype: int64"
      ]
     },
     "execution_count": 10,
     "metadata": {},
     "output_type": "execute_result"
    }
   ],
   "source": [
    "df['date'] = df['date'].astype(str)\n",
    "df['date'].value_counts()\n"
   ]
  },
  {
   "cell_type": "code",
   "execution_count": 11,
   "metadata": {},
   "outputs": [],
   "source": [
    "df['date'] = pd.to_datetime(df['date'], format='%Y%m%d')"
   ]
  },
  {
   "cell_type": "code",
   "execution_count": 12,
   "metadata": {},
   "outputs": [
    {
     "data": {
      "text/plain": [
       "0         1508176307\n",
       "1         1508201613\n",
       "2         1508196701\n",
       "3         1508177658\n",
       "4         1508166431\n",
       "             ...    \n",
       "717212    1483561580\n",
       "717213    1483533179\n",
       "717214    1483600246\n",
       "717215    1483556333\n",
       "717216    1483570454\n",
       "Name: visitStartTime, Length: 717217, dtype: int64"
      ]
     },
     "execution_count": 12,
     "metadata": {},
     "output_type": "execute_result"
    }
   ],
   "source": [
    "df['visitStartTime']"
   ]
  },
  {
   "cell_type": "markdown",
   "metadata": {},
   "source": [
    "### 'visitStartTime' to datetime"
   ]
  },
  {
   "cell_type": "code",
   "execution_count": 13,
   "metadata": {},
   "outputs": [],
   "source": [
    "df['time'] = df['visitStartTime'].apply(lambda x: dt.datetime.utcfromtimestamp(float(x)))"
   ]
  },
  {
   "cell_type": "markdown",
   "metadata": {},
   "source": [
    "### 'visitStartTime' into bins"
   ]
  },
  {
   "cell_type": "markdown",
   "metadata": {},
   "source": [
    "Knowing what 'chunk' of a day a visit was made in could be more helpful than knowing the exact time.  Here we bin the time of the visit into 8 sections corresponding to the time of day."
   ]
  },
  {
   "cell_type": "code",
   "execution_count": 14,
   "metadata": {},
   "outputs": [],
   "source": [
    "bin_values = [0,4,8,12,16,20,24]\n",
    "bin_labels = ['Late Night', 'Early Morning','Morning','Afternoon','Evening','Night']\n",
    "df['hour'] = df['time'].dt.hour\n",
    "df['time_of_day'] = pd.cut(df['hour'], bins=bin_values, labels=bin_labels, include_lowest=True)\n",
    "df.drop(['hour', 'visitStartTime'], axis=1, inplace=True)"
   ]
  },
  {
   "cell_type": "markdown",
   "metadata": {},
   "source": [
    "## Standardize Categorical Variable Values"
   ]
  },
  {
   "cell_type": "markdown",
   "metadata": {},
   "source": [
    "In this section we standardize missing values and group together categorical variables that don't occur often.  This is because our One Hot Encoded dataframe we will use for modeling would become to large and sparse if we kept each unique value as its own column.\n",
    "\n",
    "Examine value counts for all columns.  Group together unique values (<500 count) into 'Other' for ease of modeling.  Also group missing values into 'None'"
   ]
  },
  {
   "cell_type": "code",
   "execution_count": 16,
   "metadata": {},
   "outputs": [],
   "source": [
    "value_counts_list = []\n",
    "for column in df.columns:\n",
    "    value_counts_list.append(df[column].value_counts())"
   ]
  },
  {
   "cell_type": "markdown",
   "metadata": {},
   "source": [
    "### Group device_browser values"
   ]
  },
  {
   "cell_type": "markdown",
   "metadata": {},
   "source": [
    "Keeping top 10 browsers.  Convert the rest to 'Other':"
   ]
  },
  {
   "cell_type": "code",
   "execution_count": 17,
   "metadata": {},
   "outputs": [
    {
     "data": {
      "text/plain": [
       "Chrome               529385\n",
       "Safari               127216\n",
       "Firefox               15247\n",
       "Internet Explorer     11974\n",
       "Edge                   8420\n",
       "Safari (in-app)        7369\n",
       "Samsung Internet       7169\n",
       "Android Webview        6242\n",
       "Opera                  2165\n",
       "Amazon Silk            1070\n",
       "Other                   960\n",
       "Name: device.browser, dtype: int64"
      ]
     },
     "execution_count": 17,
     "metadata": {},
     "output_type": "execute_result"
    }
   ],
   "source": [
    "top_browsers = list(value_counts_list[7].index[0:10])\n",
    "df['device.browser'] = df['device.browser'].apply(lambda x: x if x in top_browsers else 'Other')\n",
    "df['device.browser'].value_counts()"
   ]
  },
  {
   "cell_type": "markdown",
   "metadata": {},
   "source": [
    "### Group device_operatingSystem values"
   ]
  },
  {
   "cell_type": "code",
   "execution_count": 18,
   "metadata": {},
   "outputs": [
    {
     "data": {
      "text/plain": [
       "Macintosh    230058\n",
       "Windows      160625\n",
       "iOS          123967\n",
       "Android      116485\n",
       "Linux         46001\n",
       "Chrome OS     39310\n",
       "Other           771\n",
       "Name: device.operatingSystem, dtype: int64"
      ]
     },
     "execution_count": 18,
     "metadata": {},
     "output_type": "execute_result"
    }
   ],
   "source": [
    "top_os = list(value_counts_list[8].index[0:6])\n",
    "df['device.operatingSystem'] = df['device.operatingSystem'].apply(lambda x: x if x in top_os else 'Other')\n",
    "df['device.operatingSystem'].value_counts()"
   ]
  },
  {
   "cell_type": "markdown",
   "metadata": {},
   "source": [
    "### Group ad content values"
   ]
  },
  {
   "cell_type": "code",
   "execution_count": 19,
   "metadata": {},
   "outputs": [
    {
     "data": {
      "text/plain": [
       "Other                             673848\n",
       "Google Merchandise Store           27999\n",
       "Google Merchandise Collection       6509\n",
       "Placement Accessores 300 x 250      2680\n",
       "Smart display ad - 8/17/2017        2135\n",
       "Google Online Store                 1534\n",
       "Official Google Merchandise          784\n",
       "Full auto ad IMAGE ONLY              675\n",
       "Placement Drinkware 300x250          544\n",
       "Display Ad created 3/11/14           509\n",
       "Name: trafficSource.adContent, dtype: int64"
      ]
     },
     "execution_count": 19,
     "metadata": {},
     "output_type": "execute_result"
    }
   ],
   "source": [
    "top_ad_content = list(value_counts_list[31].index[0:9])\n",
    "df['trafficSource.adContent'] = df['trafficSource.adContent'].apply(lambda x: x if x in top_ad_content else 'Other')\n",
    "df['trafficSource.adContent'].value_counts()"
   ]
  },
  {
   "cell_type": "markdown",
   "metadata": {},
   "source": [
    "### Group ad campaign values"
   ]
  },
  {
   "cell_type": "code",
   "execution_count": 20,
   "metadata": {},
   "outputs": [
    {
     "data": {
      "text/plain": [
       "None                                                                    653237\n",
       "1000557 | GA | US | en | Hybrid | GDN Text+Banner | AS                   15396\n",
       "AW - Dynamic Search Ads Whole Site                                       14679\n",
       "1000557 | GA | US | en | Hybrid | GDN Remarketing                        12598\n",
       "AW - Accessories                                                          7410\n",
       "Data Share Promo                                                          6983\n",
       "Other                                                                     3782\n",
       "Smart Display Campaign                                                    2135\n",
       "\"google + redesign/Accessories March 17\" All Users Similar Audiences       997\n",
       "Name: trafficSource.campaign, dtype: int64"
      ]
     },
     "execution_count": 20,
     "metadata": {},
     "output_type": "execute_result"
    }
   ],
   "source": [
    "top_camp = list(value_counts_list[26].index[0:8])\n",
    "df['trafficSource.campaign'] = df['trafficSource.campaign'].apply(lambda x: x if x in top_camp else 'Other')\n",
    "df['trafficSource.campaign'].replace('(not set)', 'None', inplace=True)\n",
    "df['trafficSource.campaign'].value_counts()"
   ]
  },
  {
   "cell_type": "markdown",
   "metadata": {},
   "source": [
    "### Group keyword values"
   ]
  },
  {
   "cell_type": "code",
   "execution_count": 21,
   "metadata": {},
   "outputs": [
    {
     "data": {
      "text/plain": [
       "Other                              433603\n",
       "None                               228509\n",
       "(User vertical targeting)           16069\n",
       "(automatic matching)                15309\n",
       "6qEhsCssdK0z36ri                    10525\n",
       "(Remarketing/Content targeting)      3520\n",
       "1hZbAqLCbjwfgOH7                     2889\n",
       "google merchandise store             2229\n",
       "Google Merchandise                   1810\n",
       "1X4Me6ZKNV0zg-jV                     1256\n",
       "google store                          797\n",
       "DoubleClick Ad Exchange               701\n",
       "Name: trafficSource.keyword, dtype: int64"
      ]
     },
     "execution_count": 21,
     "metadata": {},
     "output_type": "execute_result"
    }
   ],
   "source": [
    "top_keyword = list(value_counts_list[30].index[0:11])\n",
    "df['trafficSource.keyword'] = df['trafficSource.keyword'].apply(lambda x: x if x in top_keyword else 'Other')\n",
    "df['trafficSource.keyword'].replace('(not provided)', 'None', inplace=True)\n",
    "df['trafficSource.keyword'].value_counts()"
   ]
  },
  {
   "cell_type": "markdown",
   "metadata": {},
   "source": [
    "### Consolidate 'None' medium values"
   ]
  },
  {
   "cell_type": "code",
   "execution_count": 22,
   "metadata": {},
   "outputs": [],
   "source": [
    "df['trafficSource.medium'].replace('(none)', 'None', inplace=True)\n",
    "df['trafficSource.medium'].replace('(not set)', 'None', inplace=True)"
   ]
  },
  {
   "cell_type": "markdown",
   "metadata": {},
   "source": [
    "### Group referral path values"
   ]
  },
  {
   "cell_type": "code",
   "execution_count": 23,
   "metadata": {},
   "outputs": [
    {
     "data": {
      "text/plain": [
       "Other                                                                                                            541749\n",
       "None                                                                                                             117629\n",
       "/yt/about/                                                                                                        17610\n",
       "/offer/2145                                                                                                        8110\n",
       "/analytics/web/                                                                                                    6235\n",
       "/a/google.com/googletopia/discounts-deals-and-free-stuff/alphabet-google-discounts                                 5518\n",
       "/permissions/using-the-logo.html                                                                                   2321\n",
       "/yt/creators/                                                                                                      2019\n",
       "/yt/about/copyright/                                                                                               1719\n",
       "/yt/about/policies/                                                                                                1486\n",
       "/mail/u/0/                                                                                                         1438\n",
       "/a/google.com/forum/                                                                                               1406\n",
       "/od/Things-To-Do-in-Silicon-Valley/fl/How-To-Visit-the-Googleplex-the-Google-Head-Office-in-Mountain-View.htm      1367\n",
       "/yt/about/press/                                                                                                   1254\n",
       "/yt/music/index.html                                                                                               1138\n",
       "/pagead/ads                                                                                                        1117\n",
       "/moma                                                                                                              1081\n",
       "/yt/dev/                                                                                                            890\n",
       "/r/golang/comments/4spnk9/where_to_buy_the_golang_gopher_plush/                                                     725\n",
       "/analytics/app/                                                                                                     640\n",
       "/yt/advertise/                                                                                                      618\n",
       "/gopher                                                                                                             580\n",
       "/yt/kids/                                                                                                           567\n",
       "Name: trafficSource.referralPath, dtype: int64"
      ]
     },
     "execution_count": 23,
     "metadata": {},
     "output_type": "execute_result"
    }
   ],
   "source": [
    "top_path = list(value_counts_list[25].index[0:22])\n",
    "df['trafficSource.referralPath'] = df['trafficSource.referralPath'].apply(lambda x: x if x in top_path else 'Other')\n",
    "df['trafficSource.referralPath'].replace('/', 'None', inplace=True)\n",
    "df['trafficSource.referralPath'].value_counts()"
   ]
  },
  {
   "cell_type": "markdown",
   "metadata": {},
   "source": [
    "### Group source values"
   ]
  },
  {
   "cell_type": "code",
   "execution_count": 24,
   "metadata": {},
   "outputs": [
    {
     "data": {
      "text/plain": [
       "(direct)                       334176\n",
       "google                         293586\n",
       "youtube.com                     35234\n",
       "sites.google.com                 8152\n",
       "analytics.google.com             7130\n",
       "Partners                         6988\n",
       "dfa                              6114\n",
       "Other                            5068\n",
       "m.facebook.com                   2751\n",
       "google.com                       2726\n",
       "mail.google.com                  1910\n",
       "groups.google.com                1822\n",
       "reddit.com                       1726\n",
       "bing                             1711\n",
       "siliconvalley.about.com          1389\n",
       "yahoo                            1214\n",
       "googleads.g.doubleclick.net      1040\n",
       "facebook.com                     1010\n",
       "t.co                              886\n",
       "baidu                             783\n",
       "l.facebook.com                    655\n",
       "blog.golang.org                   580\n",
       "dealspotr.com                     566\n",
       "Name: trafficSource.source, dtype: int64"
      ]
     },
     "execution_count": 24,
     "metadata": {},
     "output_type": "execute_result"
    }
   ],
   "source": [
    "top_source = list(value_counts_list[27].index[0:22])\n",
    "df['trafficSource.source'] = df['trafficSource.source'].apply(lambda x: x if x in top_source else 'Other')\n",
    "df['trafficSource.source'].value_counts()"
   ]
  },
  {
   "cell_type": "markdown",
   "metadata": {},
   "source": [
    "### Remove social engagement"
   ]
  },
  {
   "cell_type": "markdown",
   "metadata": {},
   "source": [
    "No socially engaged observations, so remove the column."
   ]
  },
  {
   "cell_type": "code",
   "execution_count": 25,
   "metadata": {},
   "outputs": [],
   "source": [
    "df.drop('socialEngagementType', axis=1, inplace=True)"
   ]
  },
  {
   "cell_type": "markdown",
   "metadata": {},
   "source": [
    "### Remove totals bounces"
   ]
  },
  {
   "cell_type": "markdown",
   "metadata": {},
   "source": [
    "All observations one value, so remove the column."
   ]
  },
  {
   "cell_type": "code",
   "execution_count": 26,
   "metadata": {},
   "outputs": [],
   "source": [
    "df.drop('totals.bounces', axis=1, inplace=True)"
   ]
  },
  {
   "cell_type": "markdown",
   "metadata": {},
   "source": [
    "### Remove total new visits"
   ]
  },
  {
   "cell_type": "markdown",
   "metadata": {},
   "source": [
    "All observations one value, so remove the column."
   ]
  },
  {
   "cell_type": "code",
   "execution_count": 27,
   "metadata": {},
   "outputs": [],
   "source": [
    "df.drop('totals.newVisits', axis=1, inplace=True)"
   ]
  },
  {
   "cell_type": "markdown",
   "metadata": {},
   "source": [
    "### Remove total visits"
   ]
  },
  {
   "cell_type": "markdown",
   "metadata": {},
   "source": [
    "All observations one value, so remove the column."
   ]
  },
  {
   "cell_type": "code",
   "execution_count": 28,
   "metadata": {},
   "outputs": [],
   "source": [
    "df.drop('totals.visits', axis=1, inplace=True)"
   ]
  },
  {
   "cell_type": "markdown",
   "metadata": {},
   "source": [
    "### Remove gcl ID"
   ]
  },
  {
   "cell_type": "markdown",
   "metadata": {},
   "source": [
    "Unknown meaning, so remove the column."
   ]
  },
  {
   "cell_type": "code",
   "execution_count": 29,
   "metadata": {},
   "outputs": [],
   "source": [
    "df.drop('trafficSource.adwordsClickInfo.gclId', axis=1, inplace=True)"
   ]
  },
  {
   "cell_type": "markdown",
   "metadata": {},
   "source": [
    "### Remove video ad indicator"
   ]
  },
  {
   "cell_type": "markdown",
   "metadata": {},
   "source": [
    "No true values, so remove the column."
   ]
  },
  {
   "cell_type": "code",
   "execution_count": 30,
   "metadata": {},
   "outputs": [],
   "source": [
    "df.drop('trafficSource.adwordsClickInfo.isVideoAd', axis=1, inplace=True)"
   ]
  },
  {
   "cell_type": "markdown",
   "metadata": {},
   "source": [
    "### Remove direct traffic source"
   ]
  },
  {
   "cell_type": "markdown",
   "metadata": {},
   "source": [
    "No false observations, so remove the column."
   ]
  },
  {
   "cell_type": "code",
   "execution_count": 31,
   "metadata": {},
   "outputs": [],
   "source": [
    "df.drop('trafficSource.isTrueDirect', axis=1, inplace=True)"
   ]
  },
  {
   "cell_type": "markdown",
   "metadata": {},
   "source": [
    "# Resolve NaN's"
   ]
  },
  {
   "cell_type": "markdown",
   "metadata": {},
   "source": [
    "Some columns in the 'totals' and 'trafficSource' categories have null values that must be filled in or removed before modeling can be done."
   ]
  },
  {
   "cell_type": "code",
   "execution_count": 32,
   "metadata": {},
   "outputs": [
    {
     "name": "stdout",
     "output_type": "stream",
     "text": [
      "<class 'pandas.core.frame.DataFrame'>\n",
      "RangeIndex: 717217 entries, 0 to 717216\n",
      "Data columns (total 32 columns):\n",
      " #   Column                                        Non-Null Count   Dtype         \n",
      "---  ------                                        --------------   -----         \n",
      " 0   channelGrouping                               717217 non-null  object        \n",
      " 1   date                                          717217 non-null  datetime64[ns]\n",
      " 2   fullVisitorId                                 717217 non-null  object        \n",
      " 3   hits                                          717217 non-null  object        \n",
      " 4   visitId                                       717217 non-null  int64         \n",
      " 5   visitNumber                                   717217 non-null  int64         \n",
      " 6   device.browser                                717217 non-null  object        \n",
      " 7   device.operatingSystem                        717217 non-null  object        \n",
      " 8   device.isMobile                               717217 non-null  bool          \n",
      " 9   device.deviceCategory                         717217 non-null  object        \n",
      " 10  geoNetwork.continent                          717217 non-null  object        \n",
      " 11  geoNetwork.subContinent                       717217 non-null  object        \n",
      " 12  geoNetwork.country                            717217 non-null  object        \n",
      " 13  geoNetwork.networkDomain                      717217 non-null  object        \n",
      " 14  totals.hits                                   717217 non-null  object        \n",
      " 15  totals.pageviews                              717114 non-null  object        \n",
      " 16  totals.timeOnSite                             438400 non-null  object        \n",
      " 17  totals.sessionQualityDim                      384186 non-null  object        \n",
      " 18  totals.transactions                           17700 non-null   object        \n",
      " 19  totals.transactionRevenue                     17658 non-null   object        \n",
      " 20  totals.totalTransactionRevenue                17658 non-null   object        \n",
      " 21  trafficSource.referralPath                    717217 non-null  object        \n",
      " 22  trafficSource.campaign                        717217 non-null  object        \n",
      " 23  trafficSource.source                          717217 non-null  object        \n",
      " 24  trafficSource.medium                          717217 non-null  object        \n",
      " 25  trafficSource.keyword                         717217 non-null  object        \n",
      " 26  trafficSource.adContent                       717217 non-null  object        \n",
      " 27  trafficSource.adwordsClickInfo.page           61745 non-null   object        \n",
      " 28  trafficSource.adwordsClickInfo.slot           61745 non-null   object        \n",
      " 29  trafficSource.adwordsClickInfo.adNetworkType  61745 non-null   object        \n",
      " 30  time                                          717217 non-null  datetime64[ns]\n",
      " 31  time_of_day                                   717217 non-null  category      \n",
      "dtypes: bool(1), category(1), datetime64[ns](2), int64(2), object(26)\n",
      "memory usage: 165.5+ MB\n"
     ]
    }
   ],
   "source": [
    "df.info()"
   ]
  },
  {
   "cell_type": "markdown",
   "metadata": {},
   "source": [
    "Give session quality missing values their own value of -1"
   ]
  },
  {
   "cell_type": "code",
   "execution_count": 33,
   "metadata": {},
   "outputs": [
    {
     "data": {
      "text/plain": [
       "-1     333031\n",
       "1      263525\n",
       "2       41341\n",
       "3       12665\n",
       "4        6638\n",
       "        ...  \n",
       "96         52\n",
       "97         27\n",
       "98          9\n",
       "99          5\n",
       "100         2\n",
       "Name: totals.sessionQualityDim, Length: 101, dtype: int64"
      ]
     },
     "execution_count": 33,
     "metadata": {},
     "output_type": "execute_result"
    }
   ],
   "source": [
    "#Replace missing values with -1\n",
    "df['totals.sessionQualityDim'].fillna(-1, inplace=True)\n",
    "df['totals.sessionQualityDim'].value_counts()"
   ]
  },
  {
   "cell_type": "markdown",
   "metadata": {},
   "source": [
    "If revenue data is missing, assume that no purchase was made."
   ]
  },
  {
   "cell_type": "code",
   "execution_count": 34,
   "metadata": {},
   "outputs": [],
   "source": [
    "# Fill in 0s for transaction/revenue data\n",
    "df['totals.totalTransactionRevenue'].fillna(0.0, inplace=True)\n",
    "df['totals.transactionRevenue'].fillna(0.0, inplace=True)\n",
    "df['totals.transactions'].fillna(0.0, inplace=True)"
   ]
  },
  {
   "cell_type": "markdown",
   "metadata": {},
   "source": [
    "### Fill Missing values for timeOnSite with mean for purchaser group"
   ]
  },
  {
   "cell_type": "markdown",
   "metadata": {},
   "source": [
    "Note that this will influence average time on site values in the EDA and modeling processes."
   ]
  },
  {
   "cell_type": "code",
   "execution_count": 35,
   "metadata": {},
   "outputs": [
    {
     "data": {
      "text/plain": [
       "4       5021\n",
       "5       4697\n",
       "6       4672\n",
       "10      4419\n",
       "9       4369\n",
       "        ... \n",
       "4624       1\n",
       "3484       1\n",
       "6147       1\n",
       "5515       1\n",
       "2502       1\n",
       "Name: totals.timeOnSite, Length: 4243, dtype: int64"
      ]
     },
     "execution_count": 35,
     "metadata": {},
     "output_type": "execute_result"
    }
   ],
   "source": [
    "# Fill time on site NaN's using mean.  Different for purchasers vs not.\n",
    "df['totals.timeOnSite'].value_counts()"
   ]
  },
  {
   "cell_type": "code",
   "execution_count": 36,
   "metadata": {},
   "outputs": [
    {
     "name": "stderr",
     "output_type": "stream",
     "text": [
      "<ipython-input-36-a71f0dff90ac>:2: SettingWithCopyWarning: \n",
      "A value is trying to be set on a copy of a slice from a DataFrame\n",
      "\n",
      "See the caveats in the documentation: https://pandas.pydata.org/pandas-docs/stable/user_guide/indexing.html#returning-a-view-versus-a-copy\n",
      "  no_purchase_tos.dropna(inplace=True)\n",
      "<ipython-input-36-a71f0dff90ac>:6: SettingWithCopyWarning: \n",
      "A value is trying to be set on a copy of a slice from a DataFrame\n",
      "\n",
      "See the caveats in the documentation: https://pandas.pydata.org/pandas-docs/stable/user_guide/indexing.html#returning-a-view-versus-a-copy\n",
      "  purchase_tos.dropna(inplace=True)\n"
     ]
    }
   ],
   "source": [
    "no_purchase_tos = df.loc[df['totals.totalTransactionRevenue'] == 0.0]['totals.timeOnSite']\n",
    "no_purchase_tos.dropna(inplace=True)\n",
    "no_purchase_time = no_purchase_tos.astype(int).mean()\n",
    "\n",
    "purchase_tos = df.loc[df['totals.totalTransactionRevenue'] != 0.0]['totals.timeOnSite']\n",
    "purchase_tos.dropna(inplace=True)\n",
    "purchase_time = purchase_tos.astype(int).mean()"
   ]
  },
  {
   "cell_type": "code",
   "execution_count": 37,
   "metadata": {},
   "outputs": [
    {
     "data": {
      "text/plain": [
       "239.50996917387408"
      ]
     },
     "execution_count": 37,
     "metadata": {},
     "output_type": "execute_result"
    }
   ],
   "source": [
    "no_purchase_time"
   ]
  },
  {
   "cell_type": "code",
   "execution_count": 38,
   "metadata": {},
   "outputs": [
    {
     "data": {
      "text/plain": [
       "997.2024018580411"
      ]
     },
     "execution_count": 38,
     "metadata": {},
     "output_type": "execute_result"
    }
   ],
   "source": [
    "purchase_time"
   ]
  },
  {
   "cell_type": "code",
   "execution_count": 39,
   "metadata": {},
   "outputs": [],
   "source": [
    "# Create categorical var for purchase vs not\n",
    "df.loc[df['totals.transactionRevenue'].astype(int) > 0, 'purchase'] = True\n",
    "df.loc[df['totals.transactionRevenue'].astype(int) == 0, 'purchase'] = False\n",
    "df['purchase'] = df['purchase'].astype(bool)"
   ]
  },
  {
   "cell_type": "code",
   "execution_count": 52,
   "metadata": {},
   "outputs": [],
   "source": [
    "df['totals.timeOnSite'].fillna(df['purchase'].apply(lambda x: purchase_time if x==True else no_purchase_time), inplace=True)"
   ]
  },
  {
   "cell_type": "code",
   "execution_count": 53,
   "metadata": {},
   "outputs": [
    {
     "data": {
      "text/plain": [
       "239.50996917387408    278812\n",
       "4                       5021\n",
       "5                       4697\n",
       "6                       4672\n",
       "10                      4419\n",
       "                       ...  \n",
       "3484                       1\n",
       "6147                       1\n",
       "5391                       1\n",
       "5515                       1\n",
       "2502                       1\n",
       "Name: totals.timeOnSite, Length: 4245, dtype: int64"
      ]
     },
     "execution_count": 53,
     "metadata": {},
     "output_type": "execute_result"
    }
   ],
   "source": [
    "df['totals.timeOnSite'].value_counts()"
   ]
  },
  {
   "cell_type": "markdown",
   "metadata": {},
   "source": [
    "### Fill page views NaN's with 1"
   ]
  },
  {
   "cell_type": "markdown",
   "metadata": {},
   "source": [
    "If a visit to the site was made, then at least one page must have been viewed, so we fill the missing values with 1."
   ]
  },
  {
   "cell_type": "code",
   "execution_count": 42,
   "metadata": {},
   "outputs": [
    {
     "data": {
      "text/plain": [
       "1      279242\n",
       "2       94384\n",
       "3       73996\n",
       "4       49348\n",
       "5       38224\n",
       "        ...  \n",
       "219         1\n",
       "340         1\n",
       "190         1\n",
       "500         1\n",
       "223         1\n",
       "Name: totals.pageviews, Length: 198, dtype: int64"
      ]
     },
     "execution_count": 42,
     "metadata": {},
     "output_type": "execute_result"
    }
   ],
   "source": [
    "df['totals.pageviews'].value_counts()"
   ]
  },
  {
   "cell_type": "code",
   "execution_count": 43,
   "metadata": {},
   "outputs": [],
   "source": [
    "df['totals.pageviews'].fillna(1.0, inplace=True)"
   ]
  },
  {
   "cell_type": "markdown",
   "metadata": {},
   "source": [
    "### Fill AdWords NaN's"
   ]
  },
  {
   "cell_type": "markdown",
   "metadata": {},
   "source": [
    "Give missing values their own category called 'None'"
   ]
  },
  {
   "cell_type": "code",
   "execution_count": 44,
   "metadata": {},
   "outputs": [
    {
     "data": {
      "text/plain": [
       "Google Search      31608\n",
       "Content            30129\n",
       "Search partners        8\n",
       "Name: trafficSource.adwordsClickInfo.adNetworkType, dtype: int64"
      ]
     },
     "execution_count": 44,
     "metadata": {},
     "output_type": "execute_result"
    }
   ],
   "source": [
    "df['trafficSource.adwordsClickInfo.adNetworkType'].value_counts()"
   ]
  },
  {
   "cell_type": "code",
   "execution_count": 45,
   "metadata": {},
   "outputs": [],
   "source": [
    "df['trafficSource.adwordsClickInfo.adNetworkType'].fillna('None', inplace=True)"
   ]
  },
  {
   "cell_type": "code",
   "execution_count": 46,
   "metadata": {},
   "outputs": [
    {
     "data": {
      "text/plain": [
       "Top                       31020\n",
       "RHS                       30671\n",
       "Google Display Network       54\n",
       "Name: trafficSource.adwordsClickInfo.slot, dtype: int64"
      ]
     },
     "execution_count": 46,
     "metadata": {},
     "output_type": "execute_result"
    }
   ],
   "source": [
    "df['trafficSource.adwordsClickInfo.slot'].value_counts()"
   ]
  },
  {
   "cell_type": "code",
   "execution_count": 47,
   "metadata": {},
   "outputs": [],
   "source": [
    "df['trafficSource.adwordsClickInfo.slot'].fillna('None', inplace=True)"
   ]
  },
  {
   "cell_type": "code",
   "execution_count": 48,
   "metadata": {},
   "outputs": [
    {
     "data": {
      "text/plain": [
       "1     60475\n",
       "2       983\n",
       "3       167\n",
       "4        72\n",
       "5        27\n",
       "6         9\n",
       "7         6\n",
       "9         3\n",
       "12        1\n",
       "8         1\n",
       "14        1\n",
       "Name: trafficSource.adwordsClickInfo.page, dtype: int64"
      ]
     },
     "execution_count": 48,
     "metadata": {},
     "output_type": "execute_result"
    }
   ],
   "source": [
    "df['trafficSource.adwordsClickInfo.page'].value_counts()"
   ]
  },
  {
   "cell_type": "code",
   "execution_count": 49,
   "metadata": {},
   "outputs": [],
   "source": [
    "df['trafficSource.adwordsClickInfo.page'].fillna(0.0, inplace=True)"
   ]
  },
  {
   "cell_type": "markdown",
   "metadata": {},
   "source": [
    "# Convert totals columns to integers"
   ]
  },
  {
   "cell_type": "markdown",
   "metadata": {},
   "source": [
    "This is a necessary step for modeling."
   ]
  },
  {
   "cell_type": "code",
   "execution_count": 55,
   "metadata": {},
   "outputs": [],
   "source": [
    "for column in df.columns:\n",
    "    if 'totals.' in str(column):\n",
    "        df[column] = df[column].astype(int)"
   ]
  },
  {
   "cell_type": "markdown",
   "metadata": {},
   "source": [
    "# Transform Revenue to Dollars"
   ]
  },
  {
   "cell_type": "markdown",
   "metadata": {},
   "source": [
    "Original data has revenue data stored according to the following formula: Revenue = USD * 10^6.  Here we will convert revenue numbers back to USD."
   ]
  },
  {
   "cell_type": "code",
   "execution_count": 56,
   "metadata": {},
   "outputs": [],
   "source": [
    "df['revenue_usd'] = df['totals.transactionRevenue'] / (10**6)\n",
    "df['total_revenue_usd'] = df['totals.totalTransactionRevenue'] / (10**6)"
   ]
  },
  {
   "cell_type": "code",
   "execution_count": 57,
   "metadata": {},
   "outputs": [
    {
     "data": {
      "text/html": [
       "<div>\n",
       "<style scoped>\n",
       "    .dataframe tbody tr th:only-of-type {\n",
       "        vertical-align: middle;\n",
       "    }\n",
       "\n",
       "    .dataframe tbody tr th {\n",
       "        vertical-align: top;\n",
       "    }\n",
       "\n",
       "    .dataframe thead th {\n",
       "        text-align: right;\n",
       "    }\n",
       "</style>\n",
       "<table border=\"1\" class=\"dataframe\">\n",
       "  <thead>\n",
       "    <tr style=\"text-align: right;\">\n",
       "      <th></th>\n",
       "      <th>visitId</th>\n",
       "      <th>visitNumber</th>\n",
       "      <th>totals.hits</th>\n",
       "      <th>totals.pageviews</th>\n",
       "      <th>totals.timeOnSite</th>\n",
       "      <th>totals.sessionQualityDim</th>\n",
       "      <th>totals.transactions</th>\n",
       "      <th>totals.transactionRevenue</th>\n",
       "      <th>totals.totalTransactionRevenue</th>\n",
       "      <th>revenue_usd</th>\n",
       "      <th>total_revenue_usd</th>\n",
       "    </tr>\n",
       "  </thead>\n",
       "  <tbody>\n",
       "    <tr>\n",
       "      <th>count</th>\n",
       "      <td>7.172170e+05</td>\n",
       "      <td>717217.000000</td>\n",
       "      <td>717217.000000</td>\n",
       "      <td>717217.000000</td>\n",
       "      <td>717217.000000</td>\n",
       "      <td>717217.000000</td>\n",
       "      <td>717217.000000</td>\n",
       "      <td>7.172170e+05</td>\n",
       "      <td>7.172170e+05</td>\n",
       "      <td>717217.000000</td>\n",
       "      <td>717217.000000</td>\n",
       "    </tr>\n",
       "    <tr>\n",
       "      <th>mean</th>\n",
       "      <td>1.499216e+09</td>\n",
       "      <td>3.089140</td>\n",
       "      <td>6.117885</td>\n",
       "      <td>5.016974</td>\n",
       "      <td>257.966233</td>\n",
       "      <td>3.036248</td>\n",
       "      <td>0.025584</td>\n",
       "      <td>3.064463e+06</td>\n",
       "      <td>3.478864e+06</td>\n",
       "      <td>3.064463</td>\n",
       "      <td>3.478864</td>\n",
       "    </tr>\n",
       "    <tr>\n",
       "      <th>std</th>\n",
       "      <td>1.582198e+07</td>\n",
       "      <td>11.948716</td>\n",
       "      <td>11.130350</td>\n",
       "      <td>7.962957</td>\n",
       "      <td>383.534894</td>\n",
       "      <td>12.395530</td>\n",
       "      <td>0.169631</td>\n",
       "      <td>6.878500e+07</td>\n",
       "      <td>1.046080e+08</td>\n",
       "      <td>68.784999</td>\n",
       "      <td>104.607987</td>\n",
       "    </tr>\n",
       "    <tr>\n",
       "      <th>min</th>\n",
       "      <td>1.470035e+09</td>\n",
       "      <td>1.000000</td>\n",
       "      <td>1.000000</td>\n",
       "      <td>1.000000</td>\n",
       "      <td>1.000000</td>\n",
       "      <td>-1.000000</td>\n",
       "      <td>0.000000</td>\n",
       "      <td>0.000000e+00</td>\n",
       "      <td>0.000000e+00</td>\n",
       "      <td>0.000000</td>\n",
       "      <td>0.000000</td>\n",
       "    </tr>\n",
       "    <tr>\n",
       "      <th>25%</th>\n",
       "      <td>1.485273e+09</td>\n",
       "      <td>1.000000</td>\n",
       "      <td>1.000000</td>\n",
       "      <td>1.000000</td>\n",
       "      <td>61.000000</td>\n",
       "      <td>-1.000000</td>\n",
       "      <td>0.000000</td>\n",
       "      <td>0.000000e+00</td>\n",
       "      <td>0.000000e+00</td>\n",
       "      <td>0.000000</td>\n",
       "      <td>0.000000</td>\n",
       "    </tr>\n",
       "    <tr>\n",
       "      <th>50%</th>\n",
       "      <td>1.501174e+09</td>\n",
       "      <td>1.000000</td>\n",
       "      <td>2.000000</td>\n",
       "      <td>2.000000</td>\n",
       "      <td>239.000000</td>\n",
       "      <td>1.000000</td>\n",
       "      <td>0.000000</td>\n",
       "      <td>0.000000e+00</td>\n",
       "      <td>0.000000e+00</td>\n",
       "      <td>0.000000</td>\n",
       "      <td>0.000000</td>\n",
       "    </tr>\n",
       "    <tr>\n",
       "      <th>75%</th>\n",
       "      <td>1.512548e+09</td>\n",
       "      <td>2.000000</td>\n",
       "      <td>6.000000</td>\n",
       "      <td>6.000000</td>\n",
       "      <td>239.000000</td>\n",
       "      <td>1.000000</td>\n",
       "      <td>0.000000</td>\n",
       "      <td>0.000000e+00</td>\n",
       "      <td>0.000000e+00</td>\n",
       "      <td>0.000000</td>\n",
       "      <td>0.000000</td>\n",
       "    </tr>\n",
       "    <tr>\n",
       "      <th>max</th>\n",
       "      <td>1.525158e+09</td>\n",
       "      <td>457.000000</td>\n",
       "      <td>500.000000</td>\n",
       "      <td>500.000000</td>\n",
       "      <td>19017.000000</td>\n",
       "      <td>100.000000</td>\n",
       "      <td>25.000000</td>\n",
       "      <td>2.312950e+10</td>\n",
       "      <td>4.708206e+10</td>\n",
       "      <td>23129.500000</td>\n",
       "      <td>47082.060000</td>\n",
       "    </tr>\n",
       "  </tbody>\n",
       "</table>\n",
       "</div>"
      ],
      "text/plain": [
       "            visitId    visitNumber    totals.hits  totals.pageviews  \\\n",
       "count  7.172170e+05  717217.000000  717217.000000     717217.000000   \n",
       "mean   1.499216e+09       3.089140       6.117885          5.016974   \n",
       "std    1.582198e+07      11.948716      11.130350          7.962957   \n",
       "min    1.470035e+09       1.000000       1.000000          1.000000   \n",
       "25%    1.485273e+09       1.000000       1.000000          1.000000   \n",
       "50%    1.501174e+09       1.000000       2.000000          2.000000   \n",
       "75%    1.512548e+09       2.000000       6.000000          6.000000   \n",
       "max    1.525158e+09     457.000000     500.000000        500.000000   \n",
       "\n",
       "       totals.timeOnSite  totals.sessionQualityDim  totals.transactions  \\\n",
       "count      717217.000000             717217.000000        717217.000000   \n",
       "mean          257.966233                  3.036248             0.025584   \n",
       "std           383.534894                 12.395530             0.169631   \n",
       "min             1.000000                 -1.000000             0.000000   \n",
       "25%            61.000000                 -1.000000             0.000000   \n",
       "50%           239.000000                  1.000000             0.000000   \n",
       "75%           239.000000                  1.000000             0.000000   \n",
       "max         19017.000000                100.000000            25.000000   \n",
       "\n",
       "       totals.transactionRevenue  totals.totalTransactionRevenue  \\\n",
       "count               7.172170e+05                    7.172170e+05   \n",
       "mean                3.064463e+06                    3.478864e+06   \n",
       "std                 6.878500e+07                    1.046080e+08   \n",
       "min                 0.000000e+00                    0.000000e+00   \n",
       "25%                 0.000000e+00                    0.000000e+00   \n",
       "50%                 0.000000e+00                    0.000000e+00   \n",
       "75%                 0.000000e+00                    0.000000e+00   \n",
       "max                 2.312950e+10                    4.708206e+10   \n",
       "\n",
       "         revenue_usd  total_revenue_usd  \n",
       "count  717217.000000      717217.000000  \n",
       "mean        3.064463           3.478864  \n",
       "std        68.784999         104.607987  \n",
       "min         0.000000           0.000000  \n",
       "25%         0.000000           0.000000  \n",
       "50%         0.000000           0.000000  \n",
       "75%         0.000000           0.000000  \n",
       "max     23129.500000       47082.060000  "
      ]
     },
     "execution_count": 57,
     "metadata": {},
     "output_type": "execute_result"
    }
   ],
   "source": [
    "df.describe()"
   ]
  },
  {
   "cell_type": "code",
   "execution_count": 58,
   "metadata": {},
   "outputs": [
    {
     "data": {
      "text/html": [
       "<div>\n",
       "<style scoped>\n",
       "    .dataframe tbody tr th:only-of-type {\n",
       "        vertical-align: middle;\n",
       "    }\n",
       "\n",
       "    .dataframe tbody tr th {\n",
       "        vertical-align: top;\n",
       "    }\n",
       "\n",
       "    .dataframe thead th {\n",
       "        text-align: right;\n",
       "    }\n",
       "</style>\n",
       "<table border=\"1\" class=\"dataframe\">\n",
       "  <thead>\n",
       "    <tr style=\"text-align: right;\">\n",
       "      <th></th>\n",
       "      <th>visitId</th>\n",
       "      <th>visitNumber</th>\n",
       "      <th>totals.hits</th>\n",
       "      <th>totals.pageviews</th>\n",
       "      <th>totals.timeOnSite</th>\n",
       "      <th>totals.sessionQualityDim</th>\n",
       "      <th>totals.transactions</th>\n",
       "      <th>totals.transactionRevenue</th>\n",
       "      <th>totals.totalTransactionRevenue</th>\n",
       "      <th>revenue_usd</th>\n",
       "      <th>total_revenue_usd</th>\n",
       "    </tr>\n",
       "  </thead>\n",
       "  <tbody>\n",
       "    <tr>\n",
       "      <th>count</th>\n",
       "      <td>1.765800e+04</td>\n",
       "      <td>17658.000000</td>\n",
       "      <td>17658.000000</td>\n",
       "      <td>17658.000000</td>\n",
       "      <td>17658.000000</td>\n",
       "      <td>17658.000000</td>\n",
       "      <td>17658.000000</td>\n",
       "      <td>1.765800e+04</td>\n",
       "      <td>1.765800e+04</td>\n",
       "      <td>17658.000000</td>\n",
       "      <td>17658.000000</td>\n",
       "    </tr>\n",
       "    <tr>\n",
       "      <th>mean</th>\n",
       "      <td>1.496104e+09</td>\n",
       "      <td>4.055895</td>\n",
       "      <td>34.498584</td>\n",
       "      <td>26.414543</td>\n",
       "      <td>997.202345</td>\n",
       "      <td>27.389115</td>\n",
       "      <td>1.036471</td>\n",
       "      <td>1.244697e+08</td>\n",
       "      <td>1.413014e+08</td>\n",
       "      <td>124.469656</td>\n",
       "      <td>141.301404</td>\n",
       "    </tr>\n",
       "    <tr>\n",
       "      <th>std</th>\n",
       "      <td>1.556898e+07</td>\n",
       "      <td>13.195237</td>\n",
       "      <td>26.241472</td>\n",
       "      <td>17.899671</td>\n",
       "      <td>859.952854</td>\n",
       "      <td>35.386088</td>\n",
       "      <td>0.342767</td>\n",
       "      <td>4.208008e+08</td>\n",
       "      <td>6.519319e+08</td>\n",
       "      <td>420.800829</td>\n",
       "      <td>651.931857</td>\n",
       "    </tr>\n",
       "    <tr>\n",
       "      <th>min</th>\n",
       "      <td>1.470051e+09</td>\n",
       "      <td>1.000000</td>\n",
       "      <td>2.000000</td>\n",
       "      <td>2.000000</td>\n",
       "      <td>9.000000</td>\n",
       "      <td>-1.000000</td>\n",
       "      <td>1.000000</td>\n",
       "      <td>1.000000e+04</td>\n",
       "      <td>1.200000e+06</td>\n",
       "      <td>0.010000</td>\n",
       "      <td>1.200000</td>\n",
       "    </tr>\n",
       "    <tr>\n",
       "      <th>25%</th>\n",
       "      <td>1.481919e+09</td>\n",
       "      <td>1.000000</td>\n",
       "      <td>18.000000</td>\n",
       "      <td>15.000000</td>\n",
       "      <td>430.000000</td>\n",
       "      <td>-1.000000</td>\n",
       "      <td>1.000000</td>\n",
       "      <td>2.298000e+07</td>\n",
       "      <td>2.888250e+07</td>\n",
       "      <td>22.980000</td>\n",
       "      <td>28.882500</td>\n",
       "    </tr>\n",
       "    <tr>\n",
       "      <th>50%</th>\n",
       "      <td>1.495665e+09</td>\n",
       "      <td>2.000000</td>\n",
       "      <td>27.000000</td>\n",
       "      <td>22.000000</td>\n",
       "      <td>735.000000</td>\n",
       "      <td>-1.000000</td>\n",
       "      <td>1.000000</td>\n",
       "      <td>4.580000e+07</td>\n",
       "      <td>5.270000e+07</td>\n",
       "      <td>45.800000</td>\n",
       "      <td>52.700000</td>\n",
       "    </tr>\n",
       "    <tr>\n",
       "      <th>75%</th>\n",
       "      <td>1.508048e+09</td>\n",
       "      <td>4.000000</td>\n",
       "      <td>43.000000</td>\n",
       "      <td>32.000000</td>\n",
       "      <td>1285.750000</td>\n",
       "      <td>66.000000</td>\n",
       "      <td>1.000000</td>\n",
       "      <td>9.999000e+07</td>\n",
       "      <td>1.079900e+08</td>\n",
       "      <td>99.990000</td>\n",
       "      <td>107.990000</td>\n",
       "    </tr>\n",
       "    <tr>\n",
       "      <th>max</th>\n",
       "      <td>1.525148e+09</td>\n",
       "      <td>430.000000</td>\n",
       "      <td>500.000000</td>\n",
       "      <td>466.000000</td>\n",
       "      <td>15047.000000</td>\n",
       "      <td>100.000000</td>\n",
       "      <td>25.000000</td>\n",
       "      <td>2.312950e+10</td>\n",
       "      <td>4.708206e+10</td>\n",
       "      <td>23129.500000</td>\n",
       "      <td>47082.060000</td>\n",
       "    </tr>\n",
       "  </tbody>\n",
       "</table>\n",
       "</div>"
      ],
      "text/plain": [
       "            visitId   visitNumber   totals.hits  totals.pageviews  \\\n",
       "count  1.765800e+04  17658.000000  17658.000000      17658.000000   \n",
       "mean   1.496104e+09      4.055895     34.498584         26.414543   \n",
       "std    1.556898e+07     13.195237     26.241472         17.899671   \n",
       "min    1.470051e+09      1.000000      2.000000          2.000000   \n",
       "25%    1.481919e+09      1.000000     18.000000         15.000000   \n",
       "50%    1.495665e+09      2.000000     27.000000         22.000000   \n",
       "75%    1.508048e+09      4.000000     43.000000         32.000000   \n",
       "max    1.525148e+09    430.000000    500.000000        466.000000   \n",
       "\n",
       "       totals.timeOnSite  totals.sessionQualityDim  totals.transactions  \\\n",
       "count       17658.000000              17658.000000         17658.000000   \n",
       "mean          997.202345                 27.389115             1.036471   \n",
       "std           859.952854                 35.386088             0.342767   \n",
       "min             9.000000                 -1.000000             1.000000   \n",
       "25%           430.000000                 -1.000000             1.000000   \n",
       "50%           735.000000                 -1.000000             1.000000   \n",
       "75%          1285.750000                 66.000000             1.000000   \n",
       "max         15047.000000                100.000000            25.000000   \n",
       "\n",
       "       totals.transactionRevenue  totals.totalTransactionRevenue  \\\n",
       "count               1.765800e+04                    1.765800e+04   \n",
       "mean                1.244697e+08                    1.413014e+08   \n",
       "std                 4.208008e+08                    6.519319e+08   \n",
       "min                 1.000000e+04                    1.200000e+06   \n",
       "25%                 2.298000e+07                    2.888250e+07   \n",
       "50%                 4.580000e+07                    5.270000e+07   \n",
       "75%                 9.999000e+07                    1.079900e+08   \n",
       "max                 2.312950e+10                    4.708206e+10   \n",
       "\n",
       "        revenue_usd  total_revenue_usd  \n",
       "count  17658.000000       17658.000000  \n",
       "mean     124.469656         141.301404  \n",
       "std      420.800829         651.931857  \n",
       "min        0.010000           1.200000  \n",
       "25%       22.980000          28.882500  \n",
       "50%       45.800000          52.700000  \n",
       "75%       99.990000         107.990000  \n",
       "max    23129.500000       47082.060000  "
      ]
     },
     "execution_count": 58,
     "metadata": {},
     "output_type": "execute_result"
    }
   ],
   "source": [
    "df.loc[df['revenue_usd'] != 0.0].describe()"
   ]
  },
  {
   "cell_type": "code",
   "execution_count": 60,
   "metadata": {},
   "outputs": [],
   "source": [
    "df.to_csv('../Data/data2.csv')"
   ]
  },
  {
   "cell_type": "markdown",
   "metadata": {},
   "source": [
    "# Unpack 'hits' Column"
   ]
  },
  {
   "cell_type": "markdown",
   "metadata": {},
   "source": [
    "The 'hits' column is stored in a more deeply nested data structure than the other columns, so it requires more detailed functions to unpack it.\n",
    "\n",
    "All code in the following cell was provided by Kaggler Changhao Lee:\n",
    "https://www.kaggle.com/leechh/a-way-to-input-all-columns-include-hits"
   ]
  },
  {
   "cell_type": "code",
   "execution_count": 2,
   "metadata": {},
   "outputs": [],
   "source": [
    "def todict(dic, key, value):\n",
    "    if key in dic:\n",
    "        dic[key].append(value)\n",
    "    else:\n",
    "        dic[key] = [value]\n",
    "    return dic\n",
    "\n",
    "\n",
    "def resolve_json(hitsdic, hits_json, key='NoneName'):\n",
    "    if type(hits_json) == list:\n",
    "        if len(hits_json) == 0:\n",
    "            pass\n",
    "        else:\n",
    "            for subjson in hits_json:\n",
    "                hitsdic = resolve_json(hitsdic, subjson)\n",
    "    elif type(hits_json) == dict:\n",
    "        for i in hits_json.keys():\n",
    "            hitsdic = resolve_json(hitsdic, hits_json[i],i)\n",
    "    else:\n",
    "        hitsdic = todict(hitsdic, key, hits_json)\n",
    "    return hitsdic\n",
    "\n",
    "\n",
    "def complex_replace(x):\n",
    "    dic = {}\n",
    "    return resolve_json(dic, json.loads(x.replace('\\'','\\\"'). \\\n",
    "                                        replace('TRUE','true'). \\\n",
    "                                        replace('True','true'). \\\n",
    "                                        replace('FALSE','false'). \\\n",
    "                                        replace('False','false'). \\\n",
    "                                        replace(', \\\"',', !&~'). \\\n",
    "                                        replace('\\\", ','!&~, '). \\\n",
    "                                        replace('\\\": ','!&~: '). \\\n",
    "                                        replace(': \\\"',': !&~'). \\\n",
    "                                        replace(' {\\\"',' {!&~'). \\\n",
    "                                        replace('\\\"}, ','!&~}, '). \\\n",
    "                                        replace('[{\\\"','[{!&~'). \\\n",
    "                                        replace('\\\"}]','!&~}]'). \\\n",
    "                                        replace('\\\"','_'). \\\n",
    "                                        replace('!&~','\\\"'). \\\n",
    "                                        encode('gbk','ignore'). \\\n",
    "                                        decode('utf-8','ignore'). \\\n",
    "                                        replace('\\\\','')))\n",
    "\n",
    "\n",
    "def replace(x):\n",
    "    return  json.loads(x)\n",
    "\n",
    "\n",
    "def load_hits_df(csv_path, nrows=None, chunksize=10_000, percent=100):\n",
    "    n=1\n",
    "    df_list = []\n",
    "    feature = ['hits']\n",
    "    chunk = pd.read_csv(csv_path,\n",
    "                        nrows=nrows, \n",
    "                        chunksize=chunksize, \n",
    "                        dtype={'fullVisitorId': 'str'}) # Important!!\n",
    "    for subchunk in chunk:\n",
    "        for column in feature:\n",
    "            if column in ['hits']:\n",
    "                column_as_df = json_normalize(subchunk[column].apply(complex_replace))\n",
    "            else:\n",
    "                column_as_df = json_normalize(subchunk[column].apply(replace))\n",
    "            column_as_df.columns = [f'{column}_{subcolumn}' for subcolumn in column_as_df.columns]\n",
    "            subchunk.drop(column, axis=1, inplace=True)\n",
    "            subchunk = subchunk.reset_index(drop=True).merge(column_as_df,\n",
    "                                           right_index=True,\n",
    "                                           left_index=True)\n",
    "        n = n+1\n",
    "        df_list.append(subchunk.astype('str'))\n",
    "        del column_as_df, subchunk\n",
    "    return pd.concat(df_list, ignore_index=True, sort=True)"
   ]
  },
  {
   "cell_type": "code",
   "execution_count": 3,
   "metadata": {},
   "outputs": [],
   "source": [
    "hits = load_hits_df('../Data/data2.csv',nrows=None)\n"
   ]
  },
  {
   "cell_type": "markdown",
   "metadata": {},
   "source": [
    "Save the unpacked and processed data file."
   ]
  },
  {
   "cell_type": "code",
   "execution_count": 4,
   "metadata": {},
   "outputs": [],
   "source": [
    "hits.to_csv('../Data/data3.csv')"
   ]
  }
 ],
 "metadata": {
  "kernelspec": {
   "display_name": "capstone",
   "language": "python",
   "name": "capstone"
  },
  "language_info": {
   "codemirror_mode": {
    "name": "ipython",
    "version": 3
   },
   "file_extension": ".py",
   "mimetype": "text/x-python",
   "name": "python",
   "nbconvert_exporter": "python",
   "pygments_lexer": "ipython3",
   "version": "3.8.5"
  }
 },
 "nbformat": 4,
 "nbformat_minor": 4
}
